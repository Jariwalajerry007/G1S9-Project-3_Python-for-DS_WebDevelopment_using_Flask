{
 "cells": [
  {
   "cell_type": "markdown",
   "id": "1ae7b1b9",
   "metadata": {},
   "source": [
    "# Graded_Project_3 Application to predict whether a customer is eligible for loan or not"
   ]
  },
  {
   "cell_type": "markdown",
   "id": "b18c337d",
   "metadata": {},
   "source": [
    "### DATASET DESCRIPTION"
   ]
  },
  {
   "cell_type": "markdown",
   "id": "7526233c",
   "metadata": {},
   "source": [
    "1.Loan_ID\tUnique Loan ID\n",
    "\n",
    "2.Gender\tMale/ Female\n",
    "\n",
    "3.Married\tApplicant married (Y/N)\n",
    "\n",
    "4.Dependents\tNumber of dependents\n",
    "\n",
    "5.Education\tApplicant Education (Graduate/ Under Graduate)\n",
    "\n",
    "6.Self_Employed\tSelf employed (Y/N)\n",
    "\n",
    "7.ApplicantIncome\tApplicant income\n",
    "\n",
    "8.CoapplicantIncome\tCoapplicant income\n",
    "\n",
    "9.LoanAmount\tLoan amount in thousands\n",
    "\n",
    "10.Loan_Amount_Term\tTerm of loan in months\n",
    "\n",
    "11.Credit_History\tcredit history meets guidelines\n",
    "\n",
    "12.Property_Area\tUrban/ Semi Urban/ Rural\n",
    "\n",
    "13.Loan_Status\t(Target) Loan approved (Y/N)"
   ]
  },
  {
   "cell_type": "markdown",
   "id": "b496c9fe",
   "metadata": {},
   "source": [
    "### ● Model Building and saving the model using Pickle"
   ]
  },
  {
   "cell_type": "markdown",
   "id": "fe6494d5",
   "metadata": {},
   "source": [
    "1. Import required libraries and read the dataset"
   ]
  },
  {
   "cell_type": "code",
   "execution_count": 1,
   "id": "86381fa4",
   "metadata": {},
   "outputs": [],
   "source": [
    "import pandas as pd\n",
    "import numpy as np\n",
    "from sklearn.ensemble import RandomForestClassifier\n",
    "from sklearn.model_selection import train_test_split\n",
    "from sklearn.preprocessing import StandardScaler,LabelEncoder\n",
    "from sklearn.model_selection import KFold,cross_validate\n",
    "from sklearn.metrics import accuracy_score\n",
    "import warnings\n",
    "warnings.filterwarnings(action='ignore')\n",
    "import matplotlib.pyplot as plt\n",
    "import seaborn as sns"
   ]
  },
  {
   "cell_type": "markdown",
   "id": "a4894e3e",
   "metadata": {},
   "source": [
    "2. Check the first few samples, shape, info of the data and try to familiarize\n",
    "yourself with different features"
   ]
  },
  {
   "cell_type": "code",
   "execution_count": 2,
   "id": "54ffad89",
   "metadata": {},
   "outputs": [
    {
     "data": {
      "text/html": [
       "<div>\n",
       "<style scoped>\n",
       "    .dataframe tbody tr th:only-of-type {\n",
       "        vertical-align: middle;\n",
       "    }\n",
       "\n",
       "    .dataframe tbody tr th {\n",
       "        vertical-align: top;\n",
       "    }\n",
       "\n",
       "    .dataframe thead th {\n",
       "        text-align: right;\n",
       "    }\n",
       "</style>\n",
       "<table border=\"1\" class=\"dataframe\">\n",
       "  <thead>\n",
       "    <tr style=\"text-align: right;\">\n",
       "      <th></th>\n",
       "      <th>loan_id</th>\n",
       "      <th>gender</th>\n",
       "      <th>married</th>\n",
       "      <th>dependents</th>\n",
       "      <th>education</th>\n",
       "      <th>self_employed</th>\n",
       "      <th>applicantincome</th>\n",
       "      <th>coapplicantincome</th>\n",
       "      <th>loanamount</th>\n",
       "      <th>loan_amount_term</th>\n",
       "      <th>credit_history</th>\n",
       "      <th>property_area</th>\n",
       "      <th>loan_status</th>\n",
       "    </tr>\n",
       "  </thead>\n",
       "  <tbody>\n",
       "    <tr>\n",
       "      <th>0</th>\n",
       "      <td>lp001002</td>\n",
       "      <td>male</td>\n",
       "      <td>no</td>\n",
       "      <td>0.0</td>\n",
       "      <td>graduate</td>\n",
       "      <td>no</td>\n",
       "      <td>5849</td>\n",
       "      <td>0.0</td>\n",
       "      <td>NaN</td>\n",
       "      <td>360.0</td>\n",
       "      <td>1.0</td>\n",
       "      <td>urban</td>\n",
       "      <td>y</td>\n",
       "    </tr>\n",
       "    <tr>\n",
       "      <th>1</th>\n",
       "      <td>lp001003</td>\n",
       "      <td>male</td>\n",
       "      <td>yes</td>\n",
       "      <td>1.0</td>\n",
       "      <td>graduate</td>\n",
       "      <td>no</td>\n",
       "      <td>4583</td>\n",
       "      <td>1508.0</td>\n",
       "      <td>128.0</td>\n",
       "      <td>360.0</td>\n",
       "      <td>1.0</td>\n",
       "      <td>rural</td>\n",
       "      <td>n</td>\n",
       "    </tr>\n",
       "    <tr>\n",
       "      <th>2</th>\n",
       "      <td>lp001005</td>\n",
       "      <td>male</td>\n",
       "      <td>yes</td>\n",
       "      <td>0.0</td>\n",
       "      <td>graduate</td>\n",
       "      <td>yes</td>\n",
       "      <td>3000</td>\n",
       "      <td>0.0</td>\n",
       "      <td>66.0</td>\n",
       "      <td>360.0</td>\n",
       "      <td>1.0</td>\n",
       "      <td>urban</td>\n",
       "      <td>y</td>\n",
       "    </tr>\n",
       "    <tr>\n",
       "      <th>3</th>\n",
       "      <td>lp001006</td>\n",
       "      <td>male</td>\n",
       "      <td>yes</td>\n",
       "      <td>0.0</td>\n",
       "      <td>not graduate</td>\n",
       "      <td>no</td>\n",
       "      <td>2583</td>\n",
       "      <td>2358.0</td>\n",
       "      <td>120.0</td>\n",
       "      <td>360.0</td>\n",
       "      <td>1.0</td>\n",
       "      <td>urban</td>\n",
       "      <td>y</td>\n",
       "    </tr>\n",
       "    <tr>\n",
       "      <th>4</th>\n",
       "      <td>lp001008</td>\n",
       "      <td>male</td>\n",
       "      <td>no</td>\n",
       "      <td>0.0</td>\n",
       "      <td>graduate</td>\n",
       "      <td>no</td>\n",
       "      <td>6000</td>\n",
       "      <td>0.0</td>\n",
       "      <td>141.0</td>\n",
       "      <td>360.0</td>\n",
       "      <td>1.0</td>\n",
       "      <td>urban</td>\n",
       "      <td>y</td>\n",
       "    </tr>\n",
       "  </tbody>\n",
       "</table>\n",
       "</div>"
      ],
      "text/plain": [
       "    loan_id gender married  dependents     education self_employed  \\\n",
       "0  lp001002   male      no         0.0      graduate            no   \n",
       "1  lp001003   male     yes         1.0      graduate            no   \n",
       "2  lp001005   male     yes         0.0      graduate           yes   \n",
       "3  lp001006   male     yes         0.0  not graduate            no   \n",
       "4  lp001008   male      no         0.0      graduate            no   \n",
       "\n",
       "   applicantincome  coapplicantincome  loanamount  loan_amount_term  \\\n",
       "0             5849                0.0         NaN             360.0   \n",
       "1             4583             1508.0       128.0             360.0   \n",
       "2             3000                0.0        66.0             360.0   \n",
       "3             2583             2358.0       120.0             360.0   \n",
       "4             6000                0.0       141.0             360.0   \n",
       "\n",
       "   credit_history property_area loan_status  \n",
       "0             1.0         urban           y  \n",
       "1             1.0         rural           n  \n",
       "2             1.0         urban           y  \n",
       "3             1.0         urban           y  \n",
       "4             1.0         urban           y  "
      ]
     },
     "execution_count": 2,
     "metadata": {},
     "output_type": "execute_result"
    }
   ],
   "source": [
    "df = pd.read_csv('loan_approval_data.csv')\n",
    "df.head()"
   ]
  },
  {
   "cell_type": "code",
   "execution_count": 3,
   "id": "5a338c5b",
   "metadata": {},
   "outputs": [
    {
     "name": "stdout",
     "output_type": "stream",
     "text": [
      "<class 'pandas.core.frame.DataFrame'>\n",
      "RangeIndex: 614 entries, 0 to 613\n",
      "Data columns (total 13 columns):\n",
      " #   Column             Non-Null Count  Dtype  \n",
      "---  ------             --------------  -----  \n",
      " 0   loan_id            614 non-null    object \n",
      " 1   gender             601 non-null    object \n",
      " 2   married            611 non-null    object \n",
      " 3   dependents         599 non-null    float64\n",
      " 4   education          614 non-null    object \n",
      " 5   self_employed      582 non-null    object \n",
      " 6   applicantincome    614 non-null    int64  \n",
      " 7   coapplicantincome  614 non-null    float64\n",
      " 8   loanamount         592 non-null    float64\n",
      " 9   loan_amount_term   600 non-null    float64\n",
      " 10  credit_history     564 non-null    float64\n",
      " 11  property_area      614 non-null    object \n",
      " 12  loan_status        614 non-null    object \n",
      "dtypes: float64(5), int64(1), object(7)\n",
      "memory usage: 62.5+ KB\n"
     ]
    }
   ],
   "source": [
    "df.info()"
   ]
  },
  {
   "cell_type": "code",
   "execution_count": 4,
   "id": "61e93d8b",
   "metadata": {},
   "outputs": [
    {
     "data": {
      "text/html": [
       "<div>\n",
       "<style scoped>\n",
       "    .dataframe tbody tr th:only-of-type {\n",
       "        vertical-align: middle;\n",
       "    }\n",
       "\n",
       "    .dataframe tbody tr th {\n",
       "        vertical-align: top;\n",
       "    }\n",
       "\n",
       "    .dataframe thead th {\n",
       "        text-align: right;\n",
       "    }\n",
       "</style>\n",
       "<table border=\"1\" class=\"dataframe\">\n",
       "  <thead>\n",
       "    <tr style=\"text-align: right;\">\n",
       "      <th></th>\n",
       "      <th>count</th>\n",
       "      <th>unique</th>\n",
       "      <th>top</th>\n",
       "      <th>freq</th>\n",
       "    </tr>\n",
       "  </thead>\n",
       "  <tbody>\n",
       "    <tr>\n",
       "      <th>loan_id</th>\n",
       "      <td>614</td>\n",
       "      <td>614</td>\n",
       "      <td>lp001002</td>\n",
       "      <td>1</td>\n",
       "    </tr>\n",
       "    <tr>\n",
       "      <th>gender</th>\n",
       "      <td>601</td>\n",
       "      <td>2</td>\n",
       "      <td>male</td>\n",
       "      <td>489</td>\n",
       "    </tr>\n",
       "    <tr>\n",
       "      <th>married</th>\n",
       "      <td>611</td>\n",
       "      <td>2</td>\n",
       "      <td>yes</td>\n",
       "      <td>398</td>\n",
       "    </tr>\n",
       "    <tr>\n",
       "      <th>education</th>\n",
       "      <td>614</td>\n",
       "      <td>2</td>\n",
       "      <td>graduate</td>\n",
       "      <td>480</td>\n",
       "    </tr>\n",
       "    <tr>\n",
       "      <th>self_employed</th>\n",
       "      <td>582</td>\n",
       "      <td>2</td>\n",
       "      <td>no</td>\n",
       "      <td>500</td>\n",
       "    </tr>\n",
       "    <tr>\n",
       "      <th>property_area</th>\n",
       "      <td>614</td>\n",
       "      <td>3</td>\n",
       "      <td>semiurban</td>\n",
       "      <td>233</td>\n",
       "    </tr>\n",
       "    <tr>\n",
       "      <th>loan_status</th>\n",
       "      <td>614</td>\n",
       "      <td>2</td>\n",
       "      <td>y</td>\n",
       "      <td>422</td>\n",
       "    </tr>\n",
       "  </tbody>\n",
       "</table>\n",
       "</div>"
      ],
      "text/plain": [
       "              count unique        top freq\n",
       "loan_id         614    614   lp001002    1\n",
       "gender          601      2       male  489\n",
       "married         611      2        yes  398\n",
       "education       614      2   graduate  480\n",
       "self_employed   582      2         no  500\n",
       "property_area   614      3  semiurban  233\n",
       "loan_status     614      2          y  422"
      ]
     },
     "execution_count": 4,
     "metadata": {},
     "output_type": "execute_result"
    }
   ],
   "source": [
    "df.describe(include = 'O').T"
   ]
  },
  {
   "cell_type": "code",
   "execution_count": 6,
   "id": "82416bde",
   "metadata": {},
   "outputs": [
    {
     "data": {
      "text/plain": [
       "(614, 13)"
      ]
     },
     "execution_count": 6,
     "metadata": {},
     "output_type": "execute_result"
    }
   ],
   "source": [
    "df.shape"
   ]
  },
  {
   "cell_type": "code",
   "execution_count": 7,
   "id": "34fb8a67",
   "metadata": {},
   "outputs": [
    {
     "data": {
      "text/plain": [
       "0"
      ]
     },
     "execution_count": 7,
     "metadata": {},
     "output_type": "execute_result"
    }
   ],
   "source": [
    "len(df[df.duplicated()])"
   ]
  },
  {
   "cell_type": "markdown",
   "id": "0f9c3a2f",
   "metadata": {},
   "source": [
    "3. Check for missing values in the dataset, if present? handle them with\n",
    "appropriate methods and drop redundant features"
   ]
  },
  {
   "cell_type": "code",
   "execution_count": 8,
   "id": "b49dc15d",
   "metadata": {},
   "outputs": [
    {
     "name": "stdout",
     "output_type": "stream",
     "text": [
      "loan_id              0.000000\n",
      "gender               2.117264\n",
      "married              0.488599\n",
      "dependents           2.442997\n",
      "education            0.000000\n",
      "self_employed        5.211726\n",
      "applicantincome      0.000000\n",
      "coapplicantincome    0.000000\n",
      "loanamount           3.583062\n",
      "loan_amount_term     2.280130\n",
      "credit_history       8.143322\n",
      "property_area        0.000000\n",
      "loan_status          0.000000\n",
      "dtype: float64\n"
     ]
    }
   ],
   "source": [
    "percent_missing = df.isnull().sum() * 100 / len(df)\n",
    "print(percent_missing)"
   ]
  },
  {
   "cell_type": "markdown",
   "id": "c2f653d9",
   "metadata": {},
   "source": [
    "There are missing values in dataset"
   ]
  },
  {
   "cell_type": "code",
   "execution_count": 9,
   "id": "b1365225",
   "metadata": {},
   "outputs": [],
   "source": [
    "def fill_empty_values_randomly(feature_name,possible_values_list):\n",
    "    mask = df[feature_name].isnull()\n",
    "    \n",
    "    #count rows with NaNs\n",
    "    l = mask.sum()\n",
    "    \n",
    "    #create array with size l\n",
    "    s = np.random.choice(possible_values_list, size=l)\n",
    "    \n",
    "    #set NaNs values\n",
    "    df.loc[mask, feature_name] = s"
   ]
  },
  {
   "cell_type": "code",
   "execution_count": 10,
   "id": "127f8c4f",
   "metadata": {},
   "outputs": [],
   "source": [
    "# Credit history is either 0 or 1 so we cannot replace the null values with mean so we are going to select randomly from 1,0 and add it to the list. \n",
    "fill_empty_values_randomly('credit_history',[1,0])\n",
    "\n",
    "# Credit histroy takes a value as 0 or 1 \n",
    "df['credit_history'] = df['credit_history'].astype(int)"
   ]
  },
  {
   "cell_type": "code",
   "execution_count": 11,
   "id": "d18ec593",
   "metadata": {},
   "outputs": [],
   "source": [
    "#self_employed is either YES or NO so we cannot replace the null values with mean so we are going to select randomly from 'yes' or 'no'  and add it to the list. \n",
    "fill_empty_values_randomly('self_employed',['yes','no'])"
   ]
  },
  {
   "cell_type": "code",
   "execution_count": 12,
   "id": "c3d733b0",
   "metadata": {},
   "outputs": [],
   "source": [
    "def fill_empty_values_with_mean(feature_name):\n",
    "    feature_mean=df[feature_name].mean()\n",
    "    df[feature_name].fillna(value=feature_mean, inplace=True)"
   ]
  },
  {
   "cell_type": "code",
   "execution_count": 13,
   "id": "f089e42f",
   "metadata": {},
   "outputs": [],
   "source": [
    "fill_empty_values_with_mean('loanamount')"
   ]
  },
  {
   "cell_type": "code",
   "execution_count": 15,
   "id": "172ffcfd",
   "metadata": {},
   "outputs": [],
   "source": [
    "fill_empty_values_with_mean('loan_amount_term')\n",
    "\n",
    "#dependents cannot be a float value so we cannot replace it with mean \n",
    "#so we are going to select the values randomly from 0,1,2,3\n",
    "fill_empty_values_randomly('dependents',[0,1,2,3])\n",
    "\n",
    "fill_empty_values_randomly('gender',['male','female'])\n",
    "\n",
    "fill_empty_values_randomly('married',['yes','no'])"
   ]
  },
  {
   "cell_type": "code",
   "execution_count": 17,
   "id": "8b84c14d",
   "metadata": {},
   "outputs": [],
   "source": [
    "df['total_income'] = df['applicantincome']+ df['coapplicantincome']\n",
    "\n",
    "df = df.astype({\"dependents\":\"int\",\"total_income\":\"int\",\"loan_amount_term\":\"int\",\"loanamount\":\"int\"})"
   ]
  },
  {
   "cell_type": "code",
   "execution_count": 18,
   "id": "28de4b75",
   "metadata": {},
   "outputs": [
    {
     "name": "stdout",
     "output_type": "stream",
     "text": [
      "loan_id              0.0\n",
      "gender               0.0\n",
      "married              0.0\n",
      "dependents           0.0\n",
      "education            0.0\n",
      "self_employed        0.0\n",
      "applicantincome      0.0\n",
      "coapplicantincome    0.0\n",
      "loanamount           0.0\n",
      "loan_amount_term     0.0\n",
      "credit_history       0.0\n",
      "property_area        0.0\n",
      "loan_status          0.0\n",
      "total_income         0.0\n",
      "dtype: float64\n"
     ]
    }
   ],
   "source": [
    "percent_missing = df.isnull().sum() * 100 / len(df)\n",
    "print(percent_missing)"
   ]
  },
  {
   "cell_type": "code",
   "execution_count": 19,
   "id": "9752ce5a",
   "metadata": {},
   "outputs": [],
   "source": [
    "## dropping the column \"loan_id\"\n",
    "df = df.drop(columns=['loan_id','applicantincome','coapplicantincome'],axis = 1)"
   ]
  },
  {
   "cell_type": "code",
   "execution_count": 21,
   "id": "08f1e74b",
   "metadata": {},
   "outputs": [
    {
     "name": "stdout",
     "output_type": "stream",
     "text": [
      "<class 'pandas.core.frame.DataFrame'>\n",
      "RangeIndex: 614 entries, 0 to 613\n",
      "Data columns (total 11 columns):\n",
      " #   Column            Non-Null Count  Dtype \n",
      "---  ------            --------------  ----- \n",
      " 0   gender            614 non-null    object\n",
      " 1   married           614 non-null    object\n",
      " 2   dependents        614 non-null    int32 \n",
      " 3   education         614 non-null    object\n",
      " 4   self_employed     614 non-null    object\n",
      " 5   loan_amount       614 non-null    int32 \n",
      " 6   loan_amount_term  614 non-null    int32 \n",
      " 7   credit_history    614 non-null    int32 \n",
      " 8   property_area     614 non-null    object\n",
      " 9   loan_status       614 non-null    object\n",
      " 10  total_income      614 non-null    int32 \n",
      "dtypes: int32(5), object(6)\n",
      "memory usage: 40.9+ KB\n"
     ]
    }
   ],
   "source": [
    "df = df.rename(columns = {\"loanamount\": \"loan_amount\"})\n",
    "df.info()"
   ]
  },
  {
   "cell_type": "code",
   "execution_count": 22,
   "id": "2485ae5d",
   "metadata": {},
   "outputs": [
    {
     "data": {
      "text/html": [
       "<div>\n",
       "<style scoped>\n",
       "    .dataframe tbody tr th:only-of-type {\n",
       "        vertical-align: middle;\n",
       "    }\n",
       "\n",
       "    .dataframe tbody tr th {\n",
       "        vertical-align: top;\n",
       "    }\n",
       "\n",
       "    .dataframe thead th {\n",
       "        text-align: right;\n",
       "    }\n",
       "</style>\n",
       "<table border=\"1\" class=\"dataframe\">\n",
       "  <thead>\n",
       "    <tr style=\"text-align: right;\">\n",
       "      <th></th>\n",
       "      <th>count</th>\n",
       "      <th>mean</th>\n",
       "      <th>std</th>\n",
       "      <th>min</th>\n",
       "      <th>25%</th>\n",
       "      <th>50%</th>\n",
       "      <th>75%</th>\n",
       "      <th>max</th>\n",
       "    </tr>\n",
       "  </thead>\n",
       "  <tbody>\n",
       "    <tr>\n",
       "      <th>dependents</th>\n",
       "      <td>614.0</td>\n",
       "      <td>0.785016</td>\n",
       "      <td>1.032602</td>\n",
       "      <td>0.0</td>\n",
       "      <td>0.00</td>\n",
       "      <td>0.0</td>\n",
       "      <td>2.00</td>\n",
       "      <td>3.0</td>\n",
       "    </tr>\n",
       "    <tr>\n",
       "      <th>loan_amount</th>\n",
       "      <td>614.0</td>\n",
       "      <td>146.397394</td>\n",
       "      <td>84.037503</td>\n",
       "      <td>9.0</td>\n",
       "      <td>100.25</td>\n",
       "      <td>129.0</td>\n",
       "      <td>164.75</td>\n",
       "      <td>700.0</td>\n",
       "    </tr>\n",
       "    <tr>\n",
       "      <th>loan_amount_term</th>\n",
       "      <td>614.0</td>\n",
       "      <td>342.000000</td>\n",
       "      <td>64.372489</td>\n",
       "      <td>12.0</td>\n",
       "      <td>360.00</td>\n",
       "      <td>360.0</td>\n",
       "      <td>360.00</td>\n",
       "      <td>480.0</td>\n",
       "    </tr>\n",
       "    <tr>\n",
       "      <th>credit_history</th>\n",
       "      <td>614.0</td>\n",
       "      <td>0.815961</td>\n",
       "      <td>0.387832</td>\n",
       "      <td>0.0</td>\n",
       "      <td>1.00</td>\n",
       "      <td>1.0</td>\n",
       "      <td>1.00</td>\n",
       "      <td>1.0</td>\n",
       "    </tr>\n",
       "    <tr>\n",
       "      <th>total_income</th>\n",
       "      <td>614.0</td>\n",
       "      <td>7024.703583</td>\n",
       "      <td>6458.664751</td>\n",
       "      <td>1442.0</td>\n",
       "      <td>4166.00</td>\n",
       "      <td>5416.5</td>\n",
       "      <td>7521.75</td>\n",
       "      <td>81000.0</td>\n",
       "    </tr>\n",
       "  </tbody>\n",
       "</table>\n",
       "</div>"
      ],
      "text/plain": [
       "                  count         mean          std     min      25%     50%  \\\n",
       "dependents        614.0     0.785016     1.032602     0.0     0.00     0.0   \n",
       "loan_amount       614.0   146.397394    84.037503     9.0   100.25   129.0   \n",
       "loan_amount_term  614.0   342.000000    64.372489    12.0   360.00   360.0   \n",
       "credit_history    614.0     0.815961     0.387832     0.0     1.00     1.0   \n",
       "total_income      614.0  7024.703583  6458.664751  1442.0  4166.00  5416.5   \n",
       "\n",
       "                      75%      max  \n",
       "dependents           2.00      3.0  \n",
       "loan_amount        164.75    700.0  \n",
       "loan_amount_term   360.00    480.0  \n",
       "credit_history       1.00      1.0  \n",
       "total_income      7521.75  81000.0  "
      ]
     },
     "execution_count": 22,
     "metadata": {},
     "output_type": "execute_result"
    }
   ],
   "source": [
    "df.describe().T"
   ]
  },
  {
   "cell_type": "code",
   "execution_count": 23,
   "id": "623470bc",
   "metadata": {},
   "outputs": [
    {
     "data": {
      "text/html": [
       "<div>\n",
       "<style scoped>\n",
       "    .dataframe tbody tr th:only-of-type {\n",
       "        vertical-align: middle;\n",
       "    }\n",
       "\n",
       "    .dataframe tbody tr th {\n",
       "        vertical-align: top;\n",
       "    }\n",
       "\n",
       "    .dataframe thead th {\n",
       "        text-align: right;\n",
       "    }\n",
       "</style>\n",
       "<table border=\"1\" class=\"dataframe\">\n",
       "  <thead>\n",
       "    <tr style=\"text-align: right;\">\n",
       "      <th></th>\n",
       "      <th>count</th>\n",
       "      <th>unique</th>\n",
       "      <th>top</th>\n",
       "      <th>freq</th>\n",
       "    </tr>\n",
       "  </thead>\n",
       "  <tbody>\n",
       "    <tr>\n",
       "      <th>gender</th>\n",
       "      <td>614</td>\n",
       "      <td>2</td>\n",
       "      <td>male</td>\n",
       "      <td>498</td>\n",
       "    </tr>\n",
       "    <tr>\n",
       "      <th>married</th>\n",
       "      <td>614</td>\n",
       "      <td>2</td>\n",
       "      <td>yes</td>\n",
       "      <td>400</td>\n",
       "    </tr>\n",
       "    <tr>\n",
       "      <th>education</th>\n",
       "      <td>614</td>\n",
       "      <td>2</td>\n",
       "      <td>graduate</td>\n",
       "      <td>480</td>\n",
       "    </tr>\n",
       "    <tr>\n",
       "      <th>self_employed</th>\n",
       "      <td>614</td>\n",
       "      <td>2</td>\n",
       "      <td>no</td>\n",
       "      <td>518</td>\n",
       "    </tr>\n",
       "    <tr>\n",
       "      <th>property_area</th>\n",
       "      <td>614</td>\n",
       "      <td>3</td>\n",
       "      <td>semiurban</td>\n",
       "      <td>233</td>\n",
       "    </tr>\n",
       "    <tr>\n",
       "      <th>loan_status</th>\n",
       "      <td>614</td>\n",
       "      <td>2</td>\n",
       "      <td>y</td>\n",
       "      <td>422</td>\n",
       "    </tr>\n",
       "  </tbody>\n",
       "</table>\n",
       "</div>"
      ],
      "text/plain": [
       "              count unique        top freq\n",
       "gender          614      2       male  498\n",
       "married         614      2        yes  400\n",
       "education       614      2   graduate  480\n",
       "self_employed   614      2         no  518\n",
       "property_area   614      3  semiurban  233\n",
       "loan_status     614      2          y  422"
      ]
     },
     "execution_count": 23,
     "metadata": {},
     "output_type": "execute_result"
    }
   ],
   "source": [
    "df.describe(include = 'O').T"
   ]
  },
  {
   "cell_type": "markdown",
   "id": "9c5b17c1",
   "metadata": {},
   "source": [
    "4. Visualize the distribution of the target column 'loan_status' with respect to\n",
    "various categorical features and write your observations"
   ]
  },
  {
   "cell_type": "code",
   "execution_count": 24,
   "id": "642f0230",
   "metadata": {},
   "outputs": [],
   "source": [
    "def plot_categorical(feature):\n",
    "    plt.figure(figsize=(10, 6))\n",
    "    sns.countplot(x=feature, hue='loan_status', data=df)\n",
    "    plt.title(f'Distribution of {feature} by loan_status')\n",
    "    plt.show()"
   ]
  },
  {
   "cell_type": "code",
   "execution_count": 25,
   "id": "cee94545",
   "metadata": {},
   "outputs": [
    {
     "data": {
      "image/png": "[encoded data removed]",
      "text/plain": [
       "<Figure size 1000x600 with 1 Axes>"
      ]
     },
     "metadata": {},
     "output_type": "display_data"
    }
   ],
   "source": [
    "plot_categorical('gender')"
   ]
  },
  {
   "cell_type": "markdown",
   "id": "c743401f",
   "metadata": {},
   "source": [
    "                          Males are more likely elgible for loans than females"
   ]
  },
  {
   "cell_type": "code",
   "execution_count": 26,
   "id": "cdc927a5",
   "metadata": {},
   "outputs": [
    {
     "data": {
      "image/png": "[encoded data removed]",
      "text/plain": [
       "<Figure size 1000x600 with 1 Axes>"
      ]
     },
     "metadata": {},
     "output_type": "display_data"
    }
   ],
   "source": [
    "plot_categorical('married')"
   ]
  },
  {
   "cell_type": "markdown",
   "id": "1c4f3d49",
   "metadata": {},
   "source": [
    "                          On an average most of the married applicants are elgible for loan."
   ]
  },
  {
   "cell_type": "code",
   "execution_count": 28,
   "id": "f264dae7",
   "metadata": {},
   "outputs": [
    {
     "data": {
      "image/png": "[encoded data removed]",
      "text/plain": [
       "<Figure size 1000x600 with 1 Axes>"
      ]
     },
     "metadata": {},
     "output_type": "display_data"
    }
   ],
   "source": [
    "plot_categorical('education')"
   ]
  },
  {
   "cell_type": "markdown",
   "id": "2b6cc36a",
   "metadata": {},
   "source": [
    "                          It is diffcult for a non-graduate to be elgible for loan."
   ]
  },
  {
   "cell_type": "code",
   "execution_count": 29,
   "id": "990c0855",
   "metadata": {},
   "outputs": [
    {
     "data": {
      "image/png": "[encoded data removed]",
      "text/plain": [
       "<Figure size 1000x600 with 1 Axes>"
      ]
     },
     "metadata": {},
     "output_type": "display_data"
    }
   ],
   "source": [
    "plot_categorical('property_area')"
   ]
  },
  {
   "cell_type": "markdown",
   "id": "31904f22",
   "metadata": {},
   "source": [
    "                      If you are living in the semiurban area, you are more likely to be eligible for a loan.\n",
    "\n",
    "-The following are the inferences\n",
    "\n",
    ">Based on the gender catergorical feature analyis based on the loan_status ; Males, Married, Graduates, Non-self employed, Who has property at semiurban are most eligible according loan_status."
   ]
  },
  {
   "cell_type": "markdown",
   "id": "ce1b57e5",
   "metadata": {},
   "source": [
    "5. Encode the categorical data."
   ]
  },
  {
   "cell_type": "code",
   "execution_count": 30,
   "id": "108d748d",
   "metadata": {},
   "outputs": [
    {
     "name": "stdout",
     "output_type": "stream",
     "text": [
      "Mapping of column gender is {'female': 0, 'male': 1}\n",
      "Mapping of column married is {'no': 0, 'yes': 1}\n",
      "Mapping of column education is {'graduate': 0, 'not graduate': 1}\n",
      "Mapping of column self_employed is {'no': 0, 'yes': 1}\n",
      "Mapping of column loan_status is {'n': 0, 'y': 1}\n",
      "Mapping of column property_area is {'rural': 0, 'semiurban': 1, 'urban': 2}\n"
     ]
    }
   ],
   "source": [
    "categorical_columns = ['gender','married','education','self_employed','loan_status','property_area']\n",
    "le = LabelEncoder()\n",
    "for i in categorical_columns:\n",
    "        df[i] = df[[i]].apply(le.fit_transform)\n",
    "        le_name_mapping = dict(zip(le.classes_, le.transform(le.classes_)))\n",
    "        print(\"Mapping of column\",i,\"is\",le_name_mapping)"
   ]
  },
  {
   "cell_type": "code",
   "execution_count": 31,
   "id": "958c43e7",
   "metadata": {},
   "outputs": [
    {
     "data": {
      "text/html": [
       "<div>\n",
       "<style scoped>\n",
       "    .dataframe tbody tr th:only-of-type {\n",
       "        vertical-align: middle;\n",
       "    }\n",
       "\n",
       "    .dataframe tbody tr th {\n",
       "        vertical-align: top;\n",
       "    }\n",
       "\n",
       "    .dataframe thead th {\n",
       "        text-align: right;\n",
       "    }\n",
       "</style>\n",
       "<table border=\"1\" class=\"dataframe\">\n",
       "  <thead>\n",
       "    <tr style=\"text-align: right;\">\n",
       "      <th></th>\n",
       "      <th>gender</th>\n",
       "      <th>married</th>\n",
       "      <th>dependents</th>\n",
       "      <th>education</th>\n",
       "      <th>self_employed</th>\n",
       "      <th>loan_amount</th>\n",
       "      <th>loan_amount_term</th>\n",
       "      <th>credit_history</th>\n",
       "      <th>property_area</th>\n",
       "      <th>loan_status</th>\n",
       "      <th>total_income</th>\n",
       "    </tr>\n",
       "  </thead>\n",
       "  <tbody>\n",
       "    <tr>\n",
       "      <th>0</th>\n",
       "      <td>1</td>\n",
       "      <td>0</td>\n",
       "      <td>0</td>\n",
       "      <td>0</td>\n",
       "      <td>0</td>\n",
       "      <td>146</td>\n",
       "      <td>360</td>\n",
       "      <td>1</td>\n",
       "      <td>2</td>\n",
       "      <td>1</td>\n",
       "      <td>5849</td>\n",
       "    </tr>\n",
       "    <tr>\n",
       "      <th>1</th>\n",
       "      <td>1</td>\n",
       "      <td>1</td>\n",
       "      <td>1</td>\n",
       "      <td>0</td>\n",
       "      <td>0</td>\n",
       "      <td>128</td>\n",
       "      <td>360</td>\n",
       "      <td>1</td>\n",
       "      <td>0</td>\n",
       "      <td>0</td>\n",
       "      <td>6091</td>\n",
       "    </tr>\n",
       "    <tr>\n",
       "      <th>2</th>\n",
       "      <td>1</td>\n",
       "      <td>1</td>\n",
       "      <td>0</td>\n",
       "      <td>0</td>\n",
       "      <td>1</td>\n",
       "      <td>66</td>\n",
       "      <td>360</td>\n",
       "      <td>1</td>\n",
       "      <td>2</td>\n",
       "      <td>1</td>\n",
       "      <td>3000</td>\n",
       "    </tr>\n",
       "    <tr>\n",
       "      <th>3</th>\n",
       "      <td>1</td>\n",
       "      <td>1</td>\n",
       "      <td>0</td>\n",
       "      <td>1</td>\n",
       "      <td>0</td>\n",
       "      <td>120</td>\n",
       "      <td>360</td>\n",
       "      <td>1</td>\n",
       "      <td>2</td>\n",
       "      <td>1</td>\n",
       "      <td>4941</td>\n",
       "    </tr>\n",
       "    <tr>\n",
       "      <th>4</th>\n",
       "      <td>1</td>\n",
       "      <td>0</td>\n",
       "      <td>0</td>\n",
       "      <td>0</td>\n",
       "      <td>0</td>\n",
       "      <td>141</td>\n",
       "      <td>360</td>\n",
       "      <td>1</td>\n",
       "      <td>2</td>\n",
       "      <td>1</td>\n",
       "      <td>6000</td>\n",
       "    </tr>\n",
       "  </tbody>\n",
       "</table>\n",
       "</div>"
      ],
      "text/plain": [
       "   gender  married  dependents  education  self_employed  loan_amount  \\\n",
       "0       1        0           0          0              0          146   \n",
       "1       1        1           1          0              0          128   \n",
       "2       1        1           0          0              1           66   \n",
       "3       1        1           0          1              0          120   \n",
       "4       1        0           0          0              0          141   \n",
       "\n",
       "   loan_amount_term  credit_history  property_area  loan_status  total_income  \n",
       "0               360               1              2            1          5849  \n",
       "1               360               1              0            0          6091  \n",
       "2               360               1              2            1          3000  \n",
       "3               360               1              2            1          4941  \n",
       "4               360               1              2            1          6000  "
      ]
     },
     "execution_count": 31,
     "metadata": {},
     "output_type": "execute_result"
    }
   ],
   "source": [
    "df.head()"
   ]
  },
  {
   "cell_type": "markdown",
   "id": "ece591c7",
   "metadata": {},
   "source": [
    "6. Separate the target and independent features and split the data into train\n",
    "and test."
   ]
  },
  {
   "cell_type": "code",
   "execution_count": 32,
   "id": "22d68d25",
   "metadata": {},
   "outputs": [],
   "source": [
    "X = df.drop('loan_status',axis=1)\n",
    "y = df['loan_status']"
   ]
  },
  {
   "cell_type": "code",
   "execution_count": 33,
   "id": "bd1372b0",
   "metadata": {},
   "outputs": [
    {
     "name": "stdout",
     "output_type": "stream",
     "text": [
      "(491, 10) (123, 10)\n",
      "(491,) (123,)\n"
     ]
    }
   ],
   "source": [
    "X_train,X_test,y_train,y_test = train_test_split(X,y,test_size=0.2,random_state=112)\n",
    "\n",
    "print(X_train.shape,X_test.shape)\n",
    "print(y_train.shape,y_test.shape)"
   ]
  },
  {
   "cell_type": "markdown",
   "id": "67c38768",
   "metadata": {},
   "source": [
    "7. Build any classification model to predict the loan status of the customer and save your model using pickle"
   ]
  },
  {
   "cell_type": "code",
   "execution_count": 34,
   "id": "96fc25d2",
   "metadata": {},
   "outputs": [
    {
     "data": {
      "text/html": [
       "<style>#sk-container-id-1 {color: black;background-color: white;}#sk-container-id-1 pre{padding: 0;}#sk-container-id-1 div.sk-toggleable {background-color: white;}#sk-container-id-1 label.sk-toggleable__label {cursor: pointer;display: block;width: 100%;margin-bottom: 0;padding: 0.3em;box-sizing: border-box;text-align: center;}#sk-container-id-1 label.sk-toggleable__label-arrow:before {content: \"▸\";float: left;margin-right: 0.25em;color: #696969;}#sk-container-id-1 label.sk-toggleable__label-arrow:hover:before {color: black;}#sk-container-id-1 div.sk-estimator:hover label.sk-toggleable__label-arrow:before {color: black;}#sk-container-id-1 div.sk-toggleable__content {max-height: 0;max-width: 0;overflow: hidden;text-align: left;background-color: #f0f8ff;}#sk-container-id-1 div.sk-toggleable__content pre {margin: 0.2em;color: black;border-radius: 0.25em;background-color: #f0f8ff;}#sk-container-id-1 input.sk-toggleable__control:checked~div.sk-toggleable__content {max-height: 200px;max-width: 100%;overflow: auto;}#sk-container-id-1 input.sk-toggleable__control:checked~label.sk-toggleable__label-arrow:before {content: \"▾\";}#sk-container-id-1 div.sk-estimator input.sk-toggleable__control:checked~label.sk-toggleable__label {background-color: #d4ebff;}#sk-container-id-1 div.sk-label input.sk-toggleable__control:checked~label.sk-toggleable__label {background-color: #d4ebff;}#sk-container-id-1 input.sk-hidden--visually {border: 0;clip: rect(1px 1px 1px 1px);clip: rect(1px, 1px, 1px, 1px);height: 1px;margin: -1px;overflow: hidden;padding: 0;position: absolute;width: 1px;}#sk-container-id-1 div.sk-estimator {font-family: monospace;background-color: #f0f8ff;border: 1px dotted black;border-radius: 0.25em;box-sizing: border-box;margin-bottom: 0.5em;}#sk-container-id-1 div.sk-estimator:hover {background-color: #d4ebff;}#sk-container-id-1 div.sk-parallel-item::after {content: \"\";width: 100%;border-bottom: 1px solid gray;flex-grow: 1;}#sk-container-id-1 div.sk-label:hover label.sk-toggleable__label {background-color: #d4ebff;}#sk-container-id-1 div.sk-serial::before {content: \"\";position: absolute;border-left: 1px solid gray;box-sizing: border-box;top: 0;bottom: 0;left: 50%;z-index: 0;}#sk-container-id-1 div.sk-serial {display: flex;flex-direction: column;align-items: center;background-color: white;padding-right: 0.2em;padding-left: 0.2em;position: relative;}#sk-container-id-1 div.sk-item {position: relative;z-index: 1;}#sk-container-id-1 div.sk-parallel {display: flex;align-items: stretch;justify-content: center;background-color: white;position: relative;}#sk-container-id-1 div.sk-item::before, #sk-container-id-1 div.sk-parallel-item::before {content: \"\";position: absolute;border-left: 1px solid gray;box-sizing: border-box;top: 0;bottom: 0;left: 50%;z-index: -1;}#sk-container-id-1 div.sk-parallel-item {display: flex;flex-direction: column;z-index: 1;position: relative;background-color: white;}#sk-container-id-1 div.sk-parallel-item:first-child::after {align-self: flex-end;width: 50%;}#sk-container-id-1 div.sk-parallel-item:last-child::after {align-self: flex-start;width: 50%;}#sk-container-id-1 div.sk-parallel-item:only-child::after {width: 0;}#sk-container-id-1 div.sk-dashed-wrapped {border: 1px dashed gray;margin: 0 0.4em 0.5em 0.4em;box-sizing: border-box;padding-bottom: 0.4em;background-color: white;}#sk-container-id-1 div.sk-label label {font-family: monospace;font-weight: bold;display: inline-block;line-height: 1.2em;}#sk-container-id-1 div.sk-label-container {text-align: center;}#sk-container-id-1 div.sk-container {/* jupyter's `normalize.less` sets `[hidden] { display: none; }` but bootstrap.min.css set `[hidden] { display: none !important; }` so we also need the `!important` here to be able to override the default hidden behavior on the sphinx rendered scikit-learn.org. See: https://github.com/scikit-learn/scikit-learn/issues/21755 */display: inline-block !important;position: relative;}#sk-container-id-1 div.sk-text-repr-fallback {display: none;}</style><div id=\"sk-container-id-1\" class=\"sk-top-container\"><div class=\"sk-text-repr-fallback\"><pre>RandomForestClassifier(n_estimators=30, random_state=229)</pre><b>In a Jupyter environment, please rerun this cell to show the HTML representation or trust the notebook. <br />On GitHub, the HTML representation is unable to render, please try loading this page with nbviewer.org.</b></div><div class=\"sk-container\" hidden><div class=\"sk-item\"><div class=\"sk-estimator sk-toggleable\"><input class=\"sk-toggleable__control sk-hidden--visually\" id=\"sk-estimator-id-1\" type=\"checkbox\" checked><label for=\"sk-estimator-id-1\" class=\"sk-toggleable__label sk-toggleable__label-arrow\">RandomForestClassifier</label><div class=\"sk-toggleable__content\"><pre>RandomForestClassifier(n_estimators=30, random_state=229)</pre></div></div></div></div></div>"
      ],
      "text/plain": [
       "RandomForestClassifier(n_estimators=30, random_state=229)"
      ]
     },
     "execution_count": 34,
     "metadata": {},
     "output_type": "execute_result"
    }
   ],
   "source": [
    "## Let us build simple random forest regressor model\n",
    "rf = RandomForestClassifier(n_estimators =30 , random_state =229)\n",
    "rf.fit(X_train,y_train)"
   ]
  },
  {
   "cell_type": "code",
   "execution_count": 35,
   "id": "aec38ff9",
   "metadata": {},
   "outputs": [
    {
     "name": "stdout",
     "output_type": "stream",
     "text": [
      "accuray-score train: 0.9959266802443992\n",
      "accuracy-score test 0.7317073170731707\n"
     ]
    }
   ],
   "source": [
    "## Let us check the r2-score to see hows our model is performing\n",
    "\n",
    "y_train_pred = rf.predict(X_train)\n",
    "y_test_pred = rf.predict(X_test)\n",
    "\n",
    "accuracy_train = accuracy_score(y_train,y_train_pred)\n",
    "accuracy_test = accuracy_score(y_test,y_test_pred)\n",
    "\n",
    "print('accuray-score train:',accuracy_train)\n",
    "print('accuracy-score test',accuracy_test)"
   ]
  },
  {
   "cell_type": "markdown",
   "id": "15eea293",
   "metadata": {},
   "source": [
    "7. Build any classification model to predict the loan status of the customer\n",
    "and save your model using pickle."
   ]
  },
  {
   "cell_type": "code",
   "execution_count": 36,
   "id": "415427b8",
   "metadata": {},
   "outputs": [],
   "source": [
    "import pickle\n",
    "# Saving model to disk\n",
    "pickle.dump(rf, open('loan_estimator.pkl','wb'))\n",
    "\n",
    "# Loading model to compare the results\n",
    "model = pickle.load(open('loan_estimator.pkl','rb'))"
   ]
  }
 ],
 "metadata": {
  "kernelspec": {
   "display_name": "Python 3 (ipykernel)",
   "language": "python",
   "name": "python3"
  },
  "language_info": {
   "codemirror_mode": {
    "name": "ipython",
    "version": 3
   },
   "file_extension": ".py",
   "mimetype": "text/x-python",
   "name": "python",
   "nbconvert_exporter": "python",
   "pygments_lexer": "ipython3",
   "version": "3.10.9"
  }
 },
 "nbformat": 4,
 "nbformat_minor": 5
}
